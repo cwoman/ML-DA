{
 "cells": [
  {
   "cell_type": "markdown",
   "metadata": {},
   "source": [
    "# Размещение баннеров"
   ]
  },
  {
   "cell_type": "markdown",
   "metadata": {},
   "source": [
    "Представим, что международное круизное агентство Carnival Cruise Line решило себя разрекламировать с помощью баннеров и обратилось для этого к вам. Чтобы протестировать, велика ли от таких баннеров польза, их будет размещено всего 20 штук по всему миру. Вам надо выбрать 20 таких локаций для размещения, чтобы польза была большой и агентство продолжило с вами сотрудничать.\n",
    "\n",
    "Агентство крупное, и у него есть несколько офисов по всему миру. Вблизи этих офисов оно и хочет разместить баннеры — легче договариваться и проверять результат. Также эти места должны быть популярны среди туристов.\n",
    "\n",
    "Для поиска оптимальных мест воспользуемся базой данных крупнейшей социальной сети, основанной на локациях — Foursquare.\n",
    "\n",
    "Часть открытых данных есть, например, на сайте archive.org:\n",
    "\n",
    "https://archive.org/details/201309_foursquare_dataset_umn"
   ]
  },
  {
   "cell_type": "markdown",
   "metadata": {},
   "source": [
    "Для удобной работы с этим документом преобразуем его к формату csv, удалив строки, не содержащие координат — они неинформативны для нас:\n",
    "\n"
   ]
  },
  {
   "cell_type": "code",
   "execution_count": 1,
   "metadata": {},
   "outputs": [
    {
     "name": "stdout",
     "output_type": "stream",
     "text": [
      "Wall time: 4.31 s\n"
     ]
    }
   ],
   "source": [
    "%%time\n",
    "with open('checkins.dat') as input_file:\n",
    "    csv_lines = []\n",
    "    for line in input_file:\n",
    "        # strip - Удаление пробельных символов в начале и в конце строки\n",
    "        csv_line = [x.strip() for x in line.split('|')]\n",
    "        if len(csv_line) == 6 and csv_line[3] and csv_line[4]:\n",
    "            csv_lines.append(csv_line)"
   ]
  },
  {
   "cell_type": "code",
   "execution_count": 2,
   "metadata": {},
   "outputs": [],
   "source": [
    "import csv"
   ]
  },
  {
   "cell_type": "code",
   "execution_count": 3,
   "metadata": {},
   "outputs": [],
   "source": [
    "with open('checkins.csv', 'w') as output_file:\n",
    "    writer = csv.writer(output_file)\n",
    "    writer.writerows(csv_lines)"
   ]
  },
  {
   "cell_type": "markdown",
   "metadata": {},
   "source": [
    "С помощью pandas построим DataFrame и убедимся, что все 396634 строки с координатами считаны успешно."
   ]
  },
  {
   "cell_type": "code",
   "execution_count": 4,
   "metadata": {},
   "outputs": [],
   "source": [
    "import numpy as np\n",
    "import pandas as pd"
   ]
  },
  {
   "cell_type": "code",
   "execution_count": 5,
   "metadata": {},
   "outputs": [],
   "source": [
    "checkins_data = pd.read_csv('checkins.csv', header = 0)"
   ]
  },
  {
   "cell_type": "code",
   "execution_count": 6,
   "metadata": {},
   "outputs": [
    {
     "data": {
      "text/html": [
       "<div>\n",
       "<style scoped>\n",
       "    .dataframe tbody tr th:only-of-type {\n",
       "        vertical-align: middle;\n",
       "    }\n",
       "\n",
       "    .dataframe tbody tr th {\n",
       "        vertical-align: top;\n",
       "    }\n",
       "\n",
       "    .dataframe thead th {\n",
       "        text-align: right;\n",
       "    }\n",
       "</style>\n",
       "<table border=\"1\" class=\"dataframe\">\n",
       "  <thead>\n",
       "    <tr style=\"text-align: right;\">\n",
       "      <th></th>\n",
       "      <th>id</th>\n",
       "      <th>user_id</th>\n",
       "      <th>venue_id</th>\n",
       "      <th>latitude</th>\n",
       "      <th>longitude</th>\n",
       "      <th>created_at</th>\n",
       "    </tr>\n",
       "  </thead>\n",
       "  <tbody>\n",
       "    <tr>\n",
       "      <td>0</td>\n",
       "      <td>984222</td>\n",
       "      <td>15824</td>\n",
       "      <td>5222</td>\n",
       "      <td>38.895112</td>\n",
       "      <td>-77.036366</td>\n",
       "      <td>2012-04-21 17:43:47</td>\n",
       "    </tr>\n",
       "    <tr>\n",
       "      <td>1</td>\n",
       "      <td>984234</td>\n",
       "      <td>44652</td>\n",
       "      <td>5222</td>\n",
       "      <td>33.800745</td>\n",
       "      <td>-84.410520</td>\n",
       "      <td>2012-04-21 17:43:43</td>\n",
       "    </tr>\n",
       "    <tr>\n",
       "      <td>2</td>\n",
       "      <td>984291</td>\n",
       "      <td>105054</td>\n",
       "      <td>5222</td>\n",
       "      <td>45.523452</td>\n",
       "      <td>-122.676207</td>\n",
       "      <td>2012-04-21 17:39:22</td>\n",
       "    </tr>\n",
       "    <tr>\n",
       "      <td>3</td>\n",
       "      <td>984318</td>\n",
       "      <td>2146539</td>\n",
       "      <td>5222</td>\n",
       "      <td>40.764462</td>\n",
       "      <td>-111.904565</td>\n",
       "      <td>2012-04-21 17:35:46</td>\n",
       "    </tr>\n",
       "    <tr>\n",
       "      <td>4</td>\n",
       "      <td>984232</td>\n",
       "      <td>93870</td>\n",
       "      <td>380645</td>\n",
       "      <td>33.448377</td>\n",
       "      <td>-112.074037</td>\n",
       "      <td>2012-04-21 17:38:18</td>\n",
       "    </tr>\n",
       "  </tbody>\n",
       "</table>\n",
       "</div>"
      ],
      "text/plain": [
       "       id  user_id  venue_id   latitude   longitude           created_at\n",
       "0  984222    15824      5222  38.895112  -77.036366  2012-04-21 17:43:47\n",
       "1  984234    44652      5222  33.800745  -84.410520  2012-04-21 17:43:43\n",
       "2  984291   105054      5222  45.523452 -122.676207  2012-04-21 17:39:22\n",
       "3  984318  2146539      5222  40.764462 -111.904565  2012-04-21 17:35:46\n",
       "4  984232    93870    380645  33.448377 -112.074037  2012-04-21 17:38:18"
      ]
     },
     "execution_count": 6,
     "metadata": {},
     "output_type": "execute_result"
    }
   ],
   "source": [
    "checkins_data.head()"
   ]
  },
  {
   "cell_type": "code",
   "execution_count": 7,
   "metadata": {},
   "outputs": [
    {
     "data": {
      "text/plain": [
       "396634"
      ]
     },
     "execution_count": 7,
     "metadata": {},
     "output_type": "execute_result"
    }
   ],
   "source": [
    "len(checkins_data)"
   ]
  },
  {
   "cell_type": "markdown",
   "metadata": {},
   "source": [
    "Теперь необходимо кластеризовать данные координаты, чтобы выявить центры скоплений туристов. Поскольку баннеры имеют сравнительно небольшую площадь действия, нам нужен алгоритм, позволяющий ограничить размер кластера и не зависящий от количества кластеров.\n",
    "\n",
    "Эта задача — хороший повод познакомиться с алгоритмом MeanShift, который мы обошли стороной в основной части лекций. Его описание при желании можно посмотреть в sklearn user guide, а чуть позже появится дополнительное видео с обзором этого и некоторых других алгоритмов кластеризации. Используйте MeanShift, указав bandwidth=0.1, что в переводе из градусов в метры колеблется примерно от 5 до 10 км в средних широтах.\n",
    "\n",
    "Примечание:на 396634 строках кластеризация будет работать долго. Быть очень терпеливым не возбраняется — результат от этого только улучшится. Но для того, чтобы сдать задание, понадобится сабсет из первых 100 тысяч строк. Это компромисс между качеством и затраченным временем. Обучение алгоритма на всём датасете занимает около часа, а на 100 тыс. строк — примерно 2 минуты, однако этого достаточно для получения корректных результатов.\n",
    "\n",
    "Некоторые из получившихся кластеров содержат слишком мало точек — такие кластеры не интересны рекламодателям. Поэтому надо определить, какие из кластеров содержат, скажем, больше 15 элементов. Центры этих кластеров и являются оптимальными для размещения.\n",
    "\n",
    "При желании увидеть получившиеся результаты на карте можно передать центры получившихся кластеров в один из инструментов визуализации. Например, сайт mapcustomizer.com имеет функцию Bulk Entry, куда можно вставить центры полученных кластеров в формате:"
   ]
  },
  {
   "cell_type": "code",
   "execution_count": 8,
   "metadata": {},
   "outputs": [],
   "source": [
    "checkins_data_сut = checkins_data.values[0:100000, 3:5]"
   ]
  },
  {
   "cell_type": "code",
   "execution_count": 9,
   "metadata": {},
   "outputs": [
    {
     "data": {
      "text/plain": [
       "100000"
      ]
     },
     "execution_count": 9,
     "metadata": {},
     "output_type": "execute_result"
    }
   ],
   "source": [
    "len(checkins_data_сut)"
   ]
  },
  {
   "cell_type": "code",
   "execution_count": 10,
   "metadata": {},
   "outputs": [
    {
     "data": {
      "text/plain": [
       "array([[38.895111799999995, -77.0363658],\n",
       "       [33.800745, -84.41051999999999],\n",
       "       [45.5234515, -122.6762071],\n",
       "       ...,\n",
       "       [29.762884399999997, -95.3830615],\n",
       "       [32.802955, -96.76992299999999],\n",
       "       [37.7749295, -122.4194155]], dtype=object)"
      ]
     },
     "execution_count": 10,
     "metadata": {},
     "output_type": "execute_result"
    }
   ],
   "source": [
    "checkins_data_сut"
   ]
  },
  {
   "cell_type": "code",
   "execution_count": 11,
   "metadata": {},
   "outputs": [],
   "source": [
    "from sklearn.cluster import MeanShift"
   ]
  },
  {
   "cell_type": "code",
   "execution_count": 12,
   "metadata": {},
   "outputs": [
    {
     "name": "stdout",
     "output_type": "stream",
     "text": [
      "Wall time: 5min 14s\n"
     ]
    }
   ],
   "source": [
    "%%time\n",
    "clusters = MeanShift(bandwidth = 0.1).fit(checkins_data_сut)"
   ]
  },
  {
   "cell_type": "code",
   "execution_count": 13,
   "metadata": {},
   "outputs": [
    {
     "data": {
      "text/plain": [
       "array([ 5,  7, 30, ..., 25, 19,  4], dtype=int64)"
      ]
     },
     "execution_count": 13,
     "metadata": {},
     "output_type": "execute_result"
    }
   ],
   "source": [
    "labels = clusters.labels_\n",
    "labels"
   ]
  },
  {
   "cell_type": "code",
   "execution_count": 14,
   "metadata": {},
   "outputs": [
    {
     "data": {
      "text/plain": [
       "array([[  40.7177164 ,  -73.99183542],\n",
       "       [  33.44943805, -112.00213969],\n",
       "       [  33.44638027, -111.90188756],\n",
       "       ...,\n",
       "       [ -37.8229826 ,  145.1811902 ],\n",
       "       [ -41.2924945 ,  174.7732353 ],\n",
       "       [ -45.0311622 ,  168.6626435 ]])"
      ]
     },
     "execution_count": 14,
     "metadata": {},
     "output_type": "execute_result"
    }
   ],
   "source": [
    "cluster_centers = clusters.cluster_centers_\n",
    "cluster_centers"
   ]
  },
  {
   "cell_type": "code",
   "execution_count": 15,
   "metadata": {},
   "outputs": [
    {
     "data": {
      "text/plain": [
       "3231"
      ]
     },
     "execution_count": 15,
     "metadata": {},
     "output_type": "execute_result"
    }
   ],
   "source": [
    "labels_unique =np.unique(labels)\n",
    "len(labels_unique)"
   ]
  },
  {
   "cell_type": "code",
   "execution_count": 16,
   "metadata": {},
   "outputs": [
    {
     "data": {
      "text/plain": [
       "array([  33.44943805, -112.00213969])"
      ]
     },
     "execution_count": 16,
     "metadata": {},
     "output_type": "execute_result"
    }
   ],
   "source": [
    "cluster_centers[1]"
   ]
  },
  {
   "cell_type": "code",
   "execution_count": 17,
   "metadata": {},
   "outputs": [],
   "source": [
    "d = {}\n",
    "for label in labels:\n",
    "    if label not in d.keys():\n",
    "        d[label] = 1\n",
    "    else:\n",
    "        d[label] += 1"
   ]
  },
  {
   "cell_type": "code",
   "execution_count": 18,
   "metadata": {},
   "outputs": [
    {
     "name": "stdout",
     "output_type": "stream",
     "text": [
      "592\n"
     ]
    }
   ],
   "source": [
    "count = 0\n",
    "for key in d.keys():\n",
    "    if d[key] > 15:\n",
    "        count += 1\n",
    "print(count)"
   ]
  },
  {
   "cell_type": "code",
   "execution_count": 19,
   "metadata": {},
   "outputs": [
    {
     "data": {
      "text/plain": [
       "array([[4.94065646e-324, 2.52961611e-321],\n",
       "       [6.95243988e-310, 0.00000000e+000],\n",
       "       [1.68476385e-321, 8.45620415e-307],\n",
       "       ...,\n",
       "       [1.21372167e-319, 9.96135155e-320],\n",
       "       [1.01184644e-320, 9.96233968e-320],\n",
       "       [1.46633743e-319, 3.69561103e-321]])"
      ]
     },
     "execution_count": 19,
     "metadata": {},
     "output_type": "execute_result"
    }
   ],
   "source": [
    "clusters_select = np.ndarray(shape =(count, 2))\n",
    "clusters_select"
   ]
  },
  {
   "cell_type": "code",
   "execution_count": 20,
   "metadata": {},
   "outputs": [],
   "source": [
    "i = 0\n",
    "j = 0\n",
    "while i < len(cluster_centers):\n",
    "    if d[i] > 15:\n",
    "        clusters_select[j] = cluster_centers[i]\n",
    "        j += 1\n",
    "    i += 1"
   ]
  },
  {
   "cell_type": "code",
   "execution_count": 21,
   "metadata": {},
   "outputs": [
    {
     "data": {
      "text/plain": [
       "592"
      ]
     },
     "execution_count": 21,
     "metadata": {},
     "output_type": "execute_result"
    }
   ],
   "source": [
    "len(clusters_select)"
   ]
  },
  {
   "cell_type": "code",
   "execution_count": 22,
   "metadata": {},
   "outputs": [
    {
     "data": {
      "text/plain": [
       "array([ 40.7177164 , -73.99183542])"
      ]
     },
     "execution_count": 22,
     "metadata": {},
     "output_type": "execute_result"
    }
   ],
   "source": [
    "clusters_select[0]"
   ]
  },
  {
   "cell_type": "markdown",
   "metadata": {},
   "source": [
    "Как мы помним, 20 баннеров надо разместить близ офисов компании. Найдем на Google Maps по запросу Carnival Cruise Line адреса всех офисов:\n",
    "\n",
    "33.751277, -118.188740 (Los Angeles)\n",
    "\n",
    "25.867736, -80.324116 (Miami)\n",
    "\n",
    "51.503016, -0.075479 (London)\n",
    "\n",
    "52.378894, 4.885084 (Amsterdam)\n",
    "\n",
    "39.366487, 117.036146 (Beijing)\n",
    "\n",
    "-33.868457, 151.205134 (Sydney)\n",
    "\n",
    "Осталось определить 20 ближайших к ним центров кластеров. Т.е. посчитать дистанцию до ближайшего офиса для каждой точки и выбрать 20 с наименьшим значением.\n",
    "\n",
    "Примечание: при подсчете расстояний и в кластеризации можно пренебречь тем, что Земля круглая, так как в точках, расположенных близко друг к другу погрешность мала, а в остальных точках значение достаточно велико.\n",
    "\n",
    "Для сдачи задания выберите из получившихся 20 центров тот, который наименее удален от ближайшего к нему офиса. Ответ в этом задании — широта и долгота этого центра, записанные через пробел."
   ]
  },
  {
   "cell_type": "code",
   "execution_count": 23,
   "metadata": {},
   "outputs": [
    {
     "data": {
      "text/plain": [
       "array([[ 3.37512770e+01, -1.18188740e+02],\n",
       "       [ 2.58677360e+01, -8.03241160e+01],\n",
       "       [ 5.15030160e+01, -7.54790000e-02],\n",
       "       [ 5.23788940e+01,  4.88508400e+00],\n",
       "       [ 3.93664870e+01,  1.17036146e+02],\n",
       "       [-3.38684570e+01,  1.51205134e+02]])"
      ]
     },
     "execution_count": 23,
     "metadata": {},
     "output_type": "execute_result"
    }
   ],
   "source": [
    "offices = np.ndarray(shape=(6,2))\n",
    "offices[0] = np.array([33.751277, -118.188740])\n",
    "offices[1] = np.array([25.867736, -80.324116])\n",
    "offices[2] = np.array([51.503016, -0.075479])\n",
    "offices[3] = np.array([52.378894, 4.885084])\n",
    "offices[4] = np.array([39.366487, 117.036146])\n",
    "offices[5] = np.array([-33.868457, 151.205134])\n",
    "offices"
   ]
  },
  {
   "cell_type": "code",
   "execution_count": 24,
   "metadata": {},
   "outputs": [],
   "source": [
    "def distance(point1, point2):\n",
    "    return ((point1[0] - point2[0])**2 + (point1[1] - point2[1])**2)**0.5"
   ]
  },
  {
   "cell_type": "code",
   "execution_count": 25,
   "metadata": {},
   "outputs": [
    {
     "data": {
      "text/plain": [
       "20.892897123756782"
      ]
     },
     "execution_count": 25,
     "metadata": {},
     "output_type": "execute_result"
    }
   ],
   "source": [
    "distance(offices[0], clusters_select[123])"
   ]
  },
  {
   "cell_type": "code",
   "execution_count": 26,
   "metadata": {},
   "outputs": [],
   "source": [
    "answer_index = 0\n",
    "min_dist = 0\n",
    "i = 0\n",
    "while i < len(clusters_select):\n",
    "    distances = [distance(xx, clusters_select[i]) for xx in offices]\n",
    "    if min_dist == 0:\n",
    "        min_dist = min(distances)\n",
    "        answer_index = i\n",
    "    else:\n",
    "        if min_dist > min(distances):\n",
    "            min_dist = min(distances)\n",
    "            answer_index = i\n",
    "    i += 1"
   ]
  },
  {
   "cell_type": "code",
   "execution_count": 27,
   "metadata": {},
   "outputs": [
    {
     "data": {
      "text/plain": [
       "417"
      ]
     },
     "execution_count": 27,
     "metadata": {},
     "output_type": "execute_result"
    }
   ],
   "source": [
    "answer_index"
   ]
  },
  {
   "cell_type": "code",
   "execution_count": 28,
   "metadata": {},
   "outputs": [
    {
     "data": {
      "text/plain": [
       "0.007834758163107856"
      ]
     },
     "execution_count": 28,
     "metadata": {},
     "output_type": "execute_result"
    }
   ],
   "source": [
    "min_dist"
   ]
  },
  {
   "cell_type": "code",
   "execution_count": 29,
   "metadata": {},
   "outputs": [
    {
     "data": {
      "text/plain": [
       "array([-33.86063043, 151.20477593])"
      ]
     },
     "execution_count": 29,
     "metadata": {},
     "output_type": "execute_result"
    }
   ],
   "source": [
    "clusters_select[answer_index]"
   ]
  },
  {
   "cell_type": "code",
   "execution_count": 30,
   "metadata": {},
   "outputs": [],
   "source": [
    "def write_answer(center):\n",
    "    with open(\"3_1_.txt\", \"w\") as f:\n",
    "        f.write(str(center[0]) + ' ' + str(center[1]))"
   ]
  },
  {
   "cell_type": "code",
   "execution_count": 31,
   "metadata": {},
   "outputs": [],
   "source": [
    "write_answer(clusters_select[answer_index])"
   ]
  }
 ],
 "metadata": {
  "kernelspec": {
   "display_name": "Python 3",
   "language": "python",
   "name": "python3"
  },
  "language_info": {
   "codemirror_mode": {
    "name": "ipython",
    "version": 3
   },
   "file_extension": ".py",
   "mimetype": "text/x-python",
   "name": "python",
   "nbconvert_exporter": "python",
   "pygments_lexer": "ipython3",
   "version": "3.7.4"
  }
 },
 "nbformat": 4,
 "nbformat_minor": 2
}
